{
 "cells": [
  {
   "cell_type": "markdown",
   "metadata": {},
   "source": [
    "# TP Diels Alder"
   ]
  },
  {
   "cell_type": "code",
   "execution_count": 1,
   "metadata": {},
   "outputs": [],
   "source": [
    "#On importe la bibliothèque aui permet de travailler avec des tableaux\n",
    "import pandas as pd\n",
    "\n",
    "#Facteur de conversion des unités atomiques en kJ/mol\n",
    "H_vers_kjparmole = 2625.499630\n",
    "\n",
    "#Données\n",
    "#   Energies électroniques des molécules en Hartree à 0K\n",
    "#   Energies électroniques plus ZPE des molécules en Hartree\n",
    "donnees = pd.DataFrame(columns=[\"E\", \"H\"])\n",
    "#donnees.loc[\"ethylene\"] =       [  -78.5874586624,-78.536237]\n",
    "resultats = pd.DataFrame(columns=[\"DE\", \"DH\", \"DE_act\", \"DH_act\"])"
   ]
  },
  {
   "cell_type": "markdown",
   "metadata": {},
   "source": [
    "## Cyclopentadiene + ethylene"
   ]
  },
  {
   "cell_type": "markdown",
   "metadata": {},
   "source": [
    "### Constantes de conversion"
   ]
  },
  {
   "cell_type": "code",
   "execution_count": 2,
   "metadata": {},
   "outputs": [],
   "source": [
    "H2kJpmol=2625.5"
   ]
  },
  {
   "cell_type": "markdown",
   "metadata": {},
   "source": [
    "### Énergies des points stationnaires"
   ]
  },
  {
   "cell_type": "code",
   "execution_count": 3,
   "metadata": {},
   "outputs": [],
   "source": [
    "donnees.loc[\"ethylene\"]        =       [   -78.5874586624, -78.536237]\n",
    "donnees.loc[\"produit\"]         =       [  -272.727393700, -272.573786]\n",
    "donnees.loc[\"cyclopentadiene\"] =       [  -194.101062600, -194.008185]\n",
    "donnees.loc[\"ts\"]              =       [  -272.656768280, -272.508832]"
   ]
  },
  {
   "cell_type": "markdown",
   "metadata": {},
   "source": [
    "### Calcul des paramètres cinétiques et thermodynamiques"
   ]
  },
  {
   "cell_type": "code",
   "execution_count": 4,
   "metadata": {},
   "outputs": [
    {
     "data": {
      "text/html": [
       "<div>\n",
       "<style scoped>\n",
       "    .dataframe tbody tr th:only-of-type {\n",
       "        vertical-align: middle;\n",
       "    }\n",
       "\n",
       "    .dataframe tbody tr th {\n",
       "        vertical-align: top;\n",
       "    }\n",
       "\n",
       "    .dataframe thead th {\n",
       "        text-align: right;\n",
       "    }\n",
       "</style>\n",
       "<table border=\"1\" class=\"dataframe\">\n",
       "  <thead>\n",
       "    <tr style=\"text-align: right;\">\n",
       "      <th></th>\n",
       "      <th>DE</th>\n",
       "      <th>DH</th>\n",
       "      <th>DE_act</th>\n",
       "      <th>DH_act</th>\n",
       "    </tr>\n",
       "  </thead>\n",
       "  <tbody>\n",
       "    <tr>\n",
       "      <th>ethylene</th>\n",
       "      <td>-102.059585</td>\n",
       "      <td>-77.095182</td>\n",
       "      <td>83.367455</td>\n",
       "      <td>93.441545</td>\n",
       "    </tr>\n",
       "  </tbody>\n",
       "</table>\n",
       "</div>"
      ],
      "text/plain": [
       "                  DE         DH     DE_act     DH_act\n",
       "ethylene -102.059585 -77.095182  83.367455  93.441545"
      ]
     },
     "metadata": {},
     "output_type": "display_data"
    }
   ],
   "source": [
    "DE   =  (donnees[\"E\"][\"produit\"]-donnees[\"E\"][\"ethylene\"]-donnees[\"E\"][\"cyclopentadiene\"])*H2kJpmol\n",
    "DH   =  (donnees[\"H\"][\"produit\"]-donnees[\"H\"][\"ethylene\"]-donnees[\"H\"][\"cyclopentadiene\"])*H2kJpmol\n",
    "DE_a =  (donnees[\"E\"][\"ts\"]-donnees[\"E\"][\"ethylene\"]-donnees[\"E\"][\"cyclopentadiene\"])*H2kJpmol\n",
    "DH_a =  (donnees[\"H\"][\"ts\"]-donnees[\"H\"][\"ethylene\"]-donnees[\"H\"][\"cyclopentadiene\"])*H2kJpmol\n",
    "\n",
    "resultats.loc[\"ethylene\"] = [DE, DH, DE_a, DH_a]\n",
    "\n",
    "display(resultats)"
   ]
  },
  {
   "cell_type": "markdown",
   "metadata": {},
   "source": [
    "## Cyclopentadiène + butadiène ou acroleine\n",
    "#### Comparaison des approches endo et exo"
   ]
  },
  {
   "cell_type": "markdown",
   "metadata": {},
   "source": [
    "Ici, il y a deux approches possibles [endo et exo](https://fr.wikipedia.org/wiki/R%C3%A9action_de_Diels-Alder). Nous ferons le calcul sur ces deux approches.\n"
   ]
  },
  {
   "cell_type": "markdown",
   "metadata": {},
   "source": [
    "### Énergies des points stationnaires"
   ]
  },
  {
   "cell_type": "code",
   "execution_count": 5,
   "metadata": {},
   "outputs": [],
   "source": [
    "donnees.loc[\"ts_butadiene_endo\"] =       [ -350.057923690 ,-349.876771]\n",
    "donnees.loc[\"ts_butadiene_exo\"]  =       [ -350.058193942 ,-349.876883]\n",
    "donnees.loc[\"ts_acroleine_endo\"] =       [ -385.987051017 ,-385.829232]\n",
    "donnees.loc[\"ts_acroleine_exo\"]  =       [ -385.986893505 ,-385.829051]\n",
    "\n",
    "donnees.loc[\"pdt_butadiene_endo\"] =       [ -350.119468264 ,-349.932920]\n",
    "donnees.loc[\"pdt_butadiene_exo\"]  =       [ -350.119014892 ,-349.932513]\n",
    "donnees.loc[\"pdt_acroleine_endo\"] =       [ -386.042620815 ,-385.879956]\n",
    "donnees.loc[\"pdt_acroleine_exo\"]  =       [ -386.042387789 ,-385.879774]\n",
    "\n",
    "donnees.loc[\"butadiene\"] =       [ -155.992139638 ,-155.906663]\n",
    "donnees.loc[\"acroleine\"]  =       [ -191.911972308 ,-191.850324]"
   ]
  },
  {
   "cell_type": "markdown",
   "metadata": {},
   "source": [
    "### Calcul des paramètres cinétiques et thermodynamiques"
   ]
  },
  {
   "cell_type": "code",
   "execution_count": 6,
   "metadata": {},
   "outputs": [],
   "source": [
    "#Butadiene endo\n",
    "DE   =  (donnees[\"E\"][\"pdt_butadiene_endo\"]-donnees[\"E\"][\"butadiene\"]-donnees[\"E\"][\"cyclopentadiene\"])*H2kJpmol\n",
    "DH   =  (donnees[\"H\"][\"pdt_butadiene_endo\"]-donnees[\"H\"][\"butadiene\"]-donnees[\"H\"][\"cyclopentadiene\"])*H2kJpmol\n",
    "DE_a =  (donnees[\"E\"][\"ts_butadiene_endo\"]-donnees[\"E\"][\"butadiene\"]-donnees[\"E\"][\"cyclopentadiene\"])*H2kJpmol\n",
    "DH_a =  (donnees[\"H\"][\"ts_butadiene_endo\"]-donnees[\"H\"][\"butadiene\"]-donnees[\"H\"][\"cyclopentadiene\"])*H2kJpmol\n",
    "\n",
    "resultats.loc[\"butadiene_endo\"] = [DE, DH, DE_a, DH_a]\n",
    "\n",
    "#Butadiene exo\n",
    "DE   =  (donnees[\"E\"][\"pdt_butadiene_exo\"]-donnees[\"E\"][\"butadiene\"]-donnees[\"E\"][\"cyclopentadiene\"])*H2kJpmol\n",
    "DH   =  (donnees[\"H\"][\"pdt_butadiene_exo\"]-donnees[\"H\"][\"butadiene\"]-donnees[\"H\"][\"cyclopentadiene\"])*H2kJpmol\n",
    "DE_a =  (donnees[\"E\"][\"ts_butadiene_exo\"]-donnees[\"E\"][\"butadiene\"]-donnees[\"E\"][\"cyclopentadiene\"])*H2kJpmol\n",
    "DH_a =  (donnees[\"H\"][\"ts_butadiene_exo\"]-donnees[\"H\"][\"butadiene\"]-donnees[\"H\"][\"cyclopentadiene\"])*H2kJpmol\n",
    "\n",
    "resultats.loc[\"butadiene_exo\"] = [DE, DH, DE_a, DH_a]\n",
    "\n",
    "#Acroleine endo\n",
    "DE   =  (donnees[\"E\"][\"pdt_acroleine_endo\"]-donnees[\"E\"][\"acroleine\"]-donnees[\"E\"][\"cyclopentadiene\"])*H2kJpmol\n",
    "DH   =  (donnees[\"H\"][\"pdt_acroleine_endo\"]-donnees[\"H\"][\"acroleine\"]-donnees[\"H\"][\"cyclopentadiene\"])*H2kJpmol\n",
    "DE_a =  (donnees[\"E\"][\"ts_acroleine_endo\"]-donnees[\"E\"][\"acroleine\"]-donnees[\"E\"][\"cyclopentadiene\"])*H2kJpmol\n",
    "DH_a =  (donnees[\"H\"][\"ts_acroleine_endo\"]-donnees[\"H\"][\"acroleine\"]-donnees[\"H\"][\"cyclopentadiene\"])*H2kJpmol\n",
    "\n",
    "resultats.loc[\"acroleine_endo\"] = [DE, DH, DE_a, DH_a]\n",
    "\n",
    "#Acroleine exo\n",
    "DE   =  (donnees[\"E\"][\"pdt_acroleine_exo\"]-donnees[\"E\"][\"acroleine\"]-donnees[\"E\"][\"cyclopentadiene\"])*H2kJpmol\n",
    "DH   =  (donnees[\"H\"][\"pdt_acroleine_exo\"]-donnees[\"H\"][\"acroleine\"]-donnees[\"H\"][\"cyclopentadiene\"])*H2kJpmol\n",
    "DE_a =  (donnees[\"E\"][\"ts_acroleine_exo\"]-donnees[\"E\"][\"acroleine\"]-donnees[\"E\"][\"cyclopentadiene\"])*H2kJpmol\n",
    "DH_a =  (donnees[\"H\"][\"ts_acroleine_exo\"]-donnees[\"H\"][\"acroleine\"]-donnees[\"H\"][\"cyclopentadiene\"])*H2kJpmol\n",
    "\n",
    "resultats.loc[\"acroleine_exo\"] = [DE, DH, DE_a, DH_a]\n"
   ]
  },
  {
   "cell_type": "markdown",
   "metadata": {},
   "source": [
    "### Résultats obtenus en kJ/mol :"
   ]
  },
  {
   "cell_type": "code",
   "execution_count": 7,
   "metadata": {},
   "outputs": [
    {
     "data": {
      "text/html": [
       "<div>\n",
       "<style scoped>\n",
       "    .dataframe tbody tr th:only-of-type {\n",
       "        vertical-align: middle;\n",
       "    }\n",
       "\n",
       "    .dataframe tbody tr th {\n",
       "        vertical-align: top;\n",
       "    }\n",
       "\n",
       "    .dataframe thead th {\n",
       "        text-align: right;\n",
       "    }\n",
       "</style>\n",
       "<table border=\"1\" class=\"dataframe\">\n",
       "  <thead>\n",
       "    <tr style=\"text-align: right;\">\n",
       "      <th></th>\n",
       "      <th>DE</th>\n",
       "      <th>DH</th>\n",
       "      <th>DE_act</th>\n",
       "      <th>DH_act</th>\n",
       "    </tr>\n",
       "  </thead>\n",
       "  <tbody>\n",
       "    <tr>\n",
       "      <th>ethylene</th>\n",
       "      <td>-102.059585</td>\n",
       "      <td>-77.095182</td>\n",
       "      <td>83.367455</td>\n",
       "      <td>93.441545</td>\n",
       "    </tr>\n",
       "    <tr>\n",
       "      <th>butadiene_endo</th>\n",
       "      <td>-68.961451</td>\n",
       "      <td>-47.448036</td>\n",
       "      <td>92.623828</td>\n",
       "      <td>99.971163</td>\n",
       "    </tr>\n",
       "    <tr>\n",
       "      <th>butadiene_exo</th>\n",
       "      <td>-67.771123</td>\n",
       "      <td>-46.379457</td>\n",
       "      <td>91.914281</td>\n",
       "      <td>99.677107</td>\n",
       "    </tr>\n",
       "    <tr>\n",
       "      <th>acroleine_endo</th>\n",
       "      <td>-77.677799</td>\n",
       "      <td>-56.309098</td>\n",
       "      <td>68.220706</td>\n",
       "      <td>76.866764</td>\n",
       "    </tr>\n",
       "    <tr>\n",
       "      <th>acroleine_exo</th>\n",
       "      <td>-77.065989</td>\n",
       "      <td>-55.831257</td>\n",
       "      <td>68.634254</td>\n",
       "      <td>77.341979</td>\n",
       "    </tr>\n",
       "  </tbody>\n",
       "</table>\n",
       "</div>"
      ],
      "text/plain": [
       "                        DE         DH     DE_act     DH_act\n",
       "ethylene       -102.059585 -77.095182  83.367455  93.441545\n",
       "butadiene_endo  -68.961451 -47.448036  92.623828  99.971163\n",
       "butadiene_exo   -67.771123 -46.379457  91.914281  99.677107\n",
       "acroleine_endo  -77.677799 -56.309098  68.220706  76.866764\n",
       "acroleine_exo   -77.065989 -55.831257  68.634254  77.341979"
      ]
     },
     "metadata": {},
     "output_type": "display_data"
    }
   ],
   "source": [
    "display(resultats)"
   ]
  },
  {
   "cell_type": "markdown",
   "metadata": {},
   "source": []
  }
 ],
 "metadata": {
  "kernelspec": {
   "display_name": "Python 3",
   "language": "python",
   "name": "python3"
  },
  "language_info": {
   "codemirror_mode": {
    "name": "ipython",
    "version": 3
   },
   "file_extension": ".py",
   "mimetype": "text/x-python",
   "name": "python",
   "nbconvert_exporter": "python",
   "pygments_lexer": "ipython3",
   "version": "3.8.2"
  }
 },
 "nbformat": 4,
 "nbformat_minor": 4
}
